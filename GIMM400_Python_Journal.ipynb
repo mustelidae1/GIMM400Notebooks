{
  "nbformat": 4,
  "nbformat_minor": 0,
  "metadata": {
    "kernelspec": {
      "display_name": "Python 3",
      "language": "python",
      "name": "python3"
    },
    "language_info": {
      "codemirror_mode": {
        "name": "ipython",
        "version": 3
      },
      "file_extension": ".py",
      "mimetype": "text/x-python",
      "name": "python",
      "nbconvert_exporter": "python",
      "pygments_lexer": "ipython3",
      "version": "3.7.3"
    },
    "colab": {
      "name": "GIMM400_Python_Journal.ipynb",
      "version": "0.3.2",
      "provenance": []
    }
  },
  "cells": [
    {
      "cell_type": "code",
      "metadata": {
        "scrolled": true,
        "id": "nhj04qEsPvDw",
        "colab_type": "code",
        "colab": {},
        "outputId": "ba11e0c1-8271-44fd-d208-2a1d34e21381"
      },
      "source": [
        "# printing \n",
        "\n",
        "a = 5\n",
        "b = 6 \n",
        "print(a+b)\n",
        "print(type(a))\n",
        "print(1,2)\n",
        "print(1,2,3, sep='~')\n",
        "#print(\"hi\", file=\"filename\")  <- can print directly to a file "
      ],
      "execution_count": 0,
      "outputs": [
        {
          "output_type": "stream",
          "text": [
            "11\n",
            "<class 'int'>\n",
            "1 2\n",
            "1~2~3\n"
          ],
          "name": "stdout"
        }
      ]
    },
    {
      "cell_type": "code",
      "metadata": {
        "scrolled": true,
        "id": "mxjysNntPvEC",
        "colab_type": "code",
        "colab": {},
        "outputId": "7fcda5ad-2a0a-4489-db4e-6d98f9622783"
      },
      "source": [
        "help(print)"
      ],
      "execution_count": 0,
      "outputs": [
        {
          "output_type": "stream",
          "text": [
            "Help on built-in function print in module builtins:\n",
            "\n",
            "print(...)\n",
            "    print(value, ..., sep=' ', end='\\n', file=sys.stdout, flush=False)\n",
            "    \n",
            "    Prints the values to a stream, or to sys.stdout by default.\n",
            "    Optional keyword arguments:\n",
            "    file:  a file-like object (stream); defaults to the current sys.stdout.\n",
            "    sep:   string inserted between values, default a space.\n",
            "    end:   string appended after the last value, default a newline.\n",
            "    flush: whether to forcibly flush the stream.\n",
            "\n"
          ],
          "name": "stdout"
        }
      ]
    },
    {
      "cell_type": "code",
      "metadata": {
        "id": "wWiJwrivPvEL",
        "colab_type": "code",
        "colab": {},
        "outputId": "ba2ce6fa-7ae4-4108-f404-1308cffad66a"
      },
      "source": [
        "#functions \n",
        "\n",
        "def example_func(a,b):\n",
        "    return a/b\n",
        "\n",
        "print(example_func(4,2))"
      ],
      "execution_count": 0,
      "outputs": [
        {
          "output_type": "stream",
          "text": [
            "2.0\n"
          ],
          "name": "stdout"
        }
      ]
    },
    {
      "cell_type": "code",
      "metadata": {
        "id": "SaOGloPsPvEU",
        "colab_type": "code",
        "colab": {}
      },
      "source": [
        "# how to access your own Google Drive \n",
        "\n",
        "from google.colab import drive \n",
        "drive.mount('/content/drive')"
      ],
      "execution_count": 0,
      "outputs": []
    },
    {
      "cell_type": "code",
      "metadata": {
        "id": "9EUNkZtrPvEY",
        "colab_type": "code",
        "colab": {
          "base_uri": "https://localhost:8080/",
          "height": 51
        },
        "outputId": "3117db11-3a05-40f6-947d-6f59e0f1312d"
      },
      "source": [
        "# Splitting strings \n",
        "\n",
        "def num_words(input_string): \n",
        "    return len(input_string.split())\n",
        "\n",
        "str = input(\"enter string: \")\n",
        "print(num_words(str))"
      ],
      "execution_count": 5,
      "outputs": [
        {
          "output_type": "stream",
          "text": [
            "enter string: hi there\n",
            "2\n"
          ],
          "name": "stdout"
        }
      ]
    }
  ]
}